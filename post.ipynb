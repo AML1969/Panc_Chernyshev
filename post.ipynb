{
 "cells": [
  {
   "cell_type": "code",
   "execution_count": 35,
   "metadata": {},
   "outputs": [
    {
     "name": "stdout",
     "output_type": "stream",
     "text": [
      "{\"result\":{\"status\":\"success\",\"response\":\"{\\\"man\\\": 1, \\\"gun\\\": 0}\"}}\n"
     ]
    }
   ],
   "source": [
    "import requests\n",
    "files = {'file': open('gun/75.png','rb')}\n",
    "r = requests.post('http://127.0.0.1:8000/uploaded_images', files=files)\n",
    "print(r.text)"
   ]
  },
  {
   "cell_type": "code",
   "execution_count": 32,
   "metadata": {},
   "outputs": [
    {
     "name": "stdout",
     "output_type": "stream",
     "text": [
      "{\"Hello\":\"World\"}\n"
     ]
    }
   ],
   "source": [
    "r = requests.get('http://127.0.0.1:8000/')\n",
    "print(r.text)"
   ]
  },
  {
   "cell_type": "markdown",
   "metadata": {},
   "source": [
    "В этой программе мы создаем класс `FolderChecker`, который имеет два метода: `__init__` для инициализации и `check_new_files` для проверки на наличие новых файлов. Метод `__init__` принимает путь к папке в качестве аргумента и создает объект класса.\n",
    "\n",
    "Метод `check_new_files` использует модуль `os` для получения списка файлов в папке и обновляет последний раз, когда был изменен каждый файл. Если был найден новый файл, выполняется POST-запрос с помощью модуля `requests` на локальный веб-сервер с файлом, который был добавлен в папку.\n",
    "\n",
    "В конце программы мы создаем объект класса `FolderChecker` и запускаем цикл бесконечного ожидания новых файлов. Когда новый файл будет обнаружен, мы выполним POST-запрос."
   ]
  },
  {
   "cell_type": "code",
   "execution_count": null,
   "metadata": {},
   "outputs": [],
   "source": [
    "import os\n",
    "import requests\n",
    "from datetime import datetime\n",
    "\n",
    "class FolderChecker:\n",
    "    def __init__(self, folder_path):\n",
    "        self.folder_path = folder_path\n",
    "        self._files = {}\n",
    "        self._last_modified_time = datetime.now()\n",
    "\n",
    "    def check_new_files(self):\n",
    "        if \"last_modified\" in self._files.keys():\n",
    "            last_modified = self._files[\"last_modified\"]\n",
    "        else:\n",
    "            last_modified = \"\"\n",
    "        # Проверяем наличие новых файлов в папке\n",
    "        for filename in os.listdir(self.folder_path):\n",
    "            if filename not in self._files:\n",
    "                # Если файл не был ранее добавлен в список, добавляем его\n",
    "                self._files[filename] = datetime.fromtimestamp(os.path.getctime(os.path.join(self.folder_path, filename)))\n",
    "                # Обновляем последнее время модификации файла\n",
    "                self._last_modified_time = max(self._last_modified_time, self._files[filename])\n",
    "\n",
    "        # Если были обнаружены новые файлы, выполняем POST-запрос на локальный сервер\n",
    "        if self._last_modified_time > self._files[\"last_modified\"]:\n",
    "            url = \"http://127.0.0.1:8000/uploaded_images\"\n",
    "            data = {\"file\": open(self.folder_path + \"/newfile.txt\", \"rb\")}\n",
    "            requests.post(url, data=data)\n",
    "\n",
    "    # Вызываем метод для проверки новых файлов\n",
    "    def run(self):\n",
    "        while True:\n",
    "            self.check_new_files()\n",
    "            sleep(2)\n",
    "\n",
    "if __name__ == \"__main__\":\n",
    "    folder_checker = FolderChecker(\"gun\")\n",
    "    folder_checker.run()"
   ]
  },
  {
   "cell_type": "markdown",
   "metadata": {},
   "source": [
    "сделать bat файл"
   ]
  },
  {
   "cell_type": "code",
   "execution_count": null,
   "metadata": {},
   "outputs": [],
   "source": [
    "!pip freeze > requarements.txt "
   ]
  },
  {
   "cell_type": "markdown",
   "metadata": {},
   "source": [
    "Эта функция принимает путь к папке, где нужно проверять наличие новых файлов. Она создает словарь file_info, где ключи - это имена файлов, а значения - информация о каждом файле. Затем она проверяет, есть ли в словаре ключ newfile.txt, и если есть, то сравнивает время последнего изменения этого файла с временем последнего изменения всех остальных файлов. Если newfile.txt был добавлен после других файлов, то функция добавляет его имя в список new_files. Наконец, если есть новые файлы, функция отправляет POST-запрос на указанный URL с данными, содержащими список новых файлов."
   ]
  },
  {
   "cell_type": "code",
   "execution_count": null,
   "metadata": {},
   "outputs": [],
   "source": [
    "import os\n",
    "from datetime import datetime\n",
    "import requests\n",
    "\n",
    "def check_folder(folder_path):  # Функция проверки папки\n",
    "    # Получаем список файлов в папке\n",
    "    files = os.listdir(folder_path)\n",
    "    # Создаем словарь для хранения информации о файлах\n",
    "    file_info = {}\n",
    "    for file in files:\n",
    "        file_info[file] = {\n",
    "            \"name\": file,\n",
    "            \"last_modified\": datetime.now(),\n",
    "        }\n",
    "    # Проверяем, есть ли новые файлы в папке\n",
    "    new_files = []\n",
    "    for filename, info in file_info.items():\n",
    "        if info[\"last_modified\"] > file_info[\"newfile.txt\"][\"last_modified\"]:  # Если файл был добавлен после нового файла\n",
    "            new_files.append(filename)\n",
    "    if new_files:  # Если есть новые файлы\n",
    "        url = \"http://127.0.0.1:8000/uploaded_images\"  # URL для передачи данных\n",
    "        data = {\"files\": new_files}  # Данные для передачи\n",
    "        requests.post(url, json=data)  # Отправляем POST-запрос"
   ]
  },
  {
   "cell_type": "code",
   "execution_count": null,
   "metadata": {},
   "outputs": [],
   "source": [
    "import os, requests\n",
    "from PIL import Image\n",
    "from io import BytesIO\n",
    "\n",
    "# Путь к папке с картинками\n",
    "folder_path = \"gun\"\n",
    "\n",
    "# Функция для проверки папки на наличие новых изображений\n",
    "def check_images():\n",
    "    # Список изображений в папке\n",
    "    images = [os.path.join(folder_path, image) for image in os.listdir(folder_path)]\n",
    "\n",
    "    # Создание пустого словаря для хранения информации об изображениях\n",
    "    image_info = {}\n",
    "\n",
    "    for image in images:\n",
    "        with Image.open(image) as img:\n",
    "            # Получение размера изображения\n",
    "            width, height = img.size\n",
    "\n",
    "            # Добавление информации об изображении в словарь\n",
    "            info = {\n",
    "                \"width\": width,\n",
    "                \"height\": height,\n",
    "                \"size\": img.size,\n",
    "                \"file_name\": os.path.basename(image),\n",
    "            }\n",
    "            image_info[os.path.splitext(image)[0]] = info\n",
    "\n",
    "    # Проверка на наличие новых изображений в словаре\n",
    "    new_images = []\n",
    "    for key, value in image_info.items():\n",
    "        if value[\"file_name\"] != key:\n",
    "            new_images.append(key)\n",
    "\n",
    "    if len(new_images) > 0:\n",
    "        # Создание объекта запроса\n",
    "        files = {'file': open(f'{new_images}.png','rb')}\n",
    "        r = requests.post(\"http://127.0.0.1:8000/uploaded_images\", files=files)\n",
    "        print(\"Отправлен POST-запрос\")\n",
    "\n",
    "\n",
    "# Запуск функции проверки\n",
    "check_images()"
   ]
  }
 ],
 "metadata": {
  "kernelspec": {
   "display_name": "Python 3",
   "language": "python",
   "name": "python3"
  },
  "language_info": {
   "codemirror_mode": {
    "name": "ipython",
    "version": 3
   },
   "file_extension": ".py",
   "mimetype": "text/x-python",
   "name": "python",
   "nbconvert_exporter": "python",
   "pygments_lexer": "ipython3",
   "version": "3.10.0"
  },
  "orig_nbformat": 4
 },
 "nbformat": 4,
 "nbformat_minor": 2
}
