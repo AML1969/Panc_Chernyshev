{
 "cells": [
  {
   "cell_type": "code",
   "execution_count": 58,
   "metadata": {},
   "outputs": [
    {
     "name": "stdout",
     "output_type": "stream",
     "text": [
      "{\"result\":{\"status\":\"success\",\"response\":\"{\\\"man\\\": 1, \\\"gun\\\": 0}\"}}\n"
     ]
    }
   ],
   "source": [
    "import requests\n",
    "files = {'file': open('gun/8.png','rb')}\n",
    "r = requests.post('http://127.0.0.1:8000/uploaded_images', files=files)\n",
    "print(r.text)"
   ]
  },
  {
   "cell_type": "code",
   "execution_count": 57,
   "metadata": {},
   "outputs": [
    {
     "name": "stdout",
     "output_type": "stream",
     "text": [
      "{\"Hello\":\"World\"}\n"
     ]
    }
   ],
   "source": [
    "import requests\n",
    "r = requests.get('http://127.0.0.1:8000/')\n",
    "print(r.text)"
   ]
  },
  {
   "cell_type": "code",
   "execution_count": 67,
   "metadata": {},
   "outputs": [
    {
     "name": "stdout",
     "output_type": "stream",
     "text": [
      "0.png {'result': {'status': 'success', 'response': '{\"man\": 1, \"gun\": 0}'}}\n",
      "1.png {'result': {'status': 'success', 'response': '{\"man\": 1, \"gun\": 0}'}}\n",
      "10.png {'result': {'status': 'success', 'response': '{\"man\": 0, \"gun\": 0}'}}\n",
      "11.png {'result': {'status': 'success', 'response': '{\"man\": 0, \"gun\": 0}'}}\n",
      "12.png {'result': {'status': 'success', 'response': '{\"man\": 0, \"gun\": 0}'}}\n",
      "13.png {'result': {'status': 'success', 'response': '{\"man\": 0, \"gun\": 0}'}}\n",
      "2.png {'result': {'status': 'success', 'response': '{\"man\": 1, \"gun\": 0}'}}\n",
      "3.png {'result': {'status': 'success', 'response': '{\"man\": 1, \"gun\": 0}'}}\n",
      "4.png {'result': {'status': 'success', 'response': '{\"man\": 1, \"gun\": 0}'}}\n",
      "5.png {'result': {'status': 'success', 'response': '{\"man\": 1, \"gun\": 0}'}}\n",
      "6.png {'result': {'status': 'success', 'response': '{\"man\": 1, \"gun\": 0}'}}\n",
      "7.png {'result': {'status': 'success', 'response': '{\"man\": 1, \"gun\": 0}'}}\n",
      "8.png {'result': {'status': 'success', 'response': '{\"man\": 1, \"gun\": 0}'}}\n",
      "9.png {'result': {'status': 'success', 'response': '{\"man\": 0, \"gun\": 0}'}}\n"
     ]
    }
   ],
   "source": [
    "import os, requests\n",
    "folder_path = \"gun\" # Путь к папке с картинками\n",
    "\n",
    "# Функция для отправки post-запроса на сервер с картинкой\n",
    "def post_request(file_path):\n",
    "    url = \"http://127.0.0.1:8000/uploaded_images\"\n",
    "    files = {\n",
    "        'file': open(folder_path + '/'+ file_path, 'rb')\n",
    "    }\n",
    "    response = requests.post(url, files=files)\n",
    "    return response.json()\n",
    "\n",
    "    # Перебираем все файлы в папке\n",
    "for file_path in os.listdir(folder_path):\n",
    "        if file_path.endswith('.png') or file_path.endswith('.jpg'):\n",
    "            # Отправляем post-запрос на сервер\n",
    "            response = post_request(file_path)\n",
    "            print(file_path, response)\n",
    "            #sleep(2)"
   ]
  }
 ],
 "metadata": {
  "kernelspec": {
   "display_name": "Python 3",
   "language": "python",
   "name": "python3"
  },
  "language_info": {
   "codemirror_mode": {
    "name": "ipython",
    "version": 3
   },
   "file_extension": ".py",
   "mimetype": "text/x-python",
   "name": "python",
   "nbconvert_exporter": "python",
   "pygments_lexer": "ipython3",
   "version": "3.10.0"
  },
  "orig_nbformat": 4
 },
 "nbformat": 4,
 "nbformat_minor": 2
}
